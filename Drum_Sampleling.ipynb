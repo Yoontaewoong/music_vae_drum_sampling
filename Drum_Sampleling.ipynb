{
  "nbformat": 4,
  "nbformat_minor": 0,
  "metadata": {
    "colab": {
      "provenance": [],
      "collapsed_sections": []
    },
    "kernelspec": {
      "name": "python3",
      "display_name": "Python 3"
    },
    "language_info": {
      "name": "python"
    }
  },
  "cells": [
    {
      "cell_type": "code",
      "source": [
        "!pip install magenta==2.1.0"
      ],
      "metadata": {
        "id": "fLnmNjBJ9r6P"
      },
      "execution_count": null,
      "outputs": []
    },
    {
      "cell_type": "code",
      "source": [
        "!git clone https://github.com/tensorflow/magenta.git\n",
        "!sudo apt install -y fluidsynth\n",
        "!pip install pretty_midi"
      ],
      "metadata": {
        "colab": {
          "base_uri": "https://localhost:8080/"
        },
        "id": "KxfLpuXU8H_T",
        "outputId": "9fe34d61-c249-4386-cd35-c321746a5f60"
      },
      "execution_count": 20,
      "outputs": [
        {
          "output_type": "stream",
          "name": "stdout",
          "text": [
            "fatal: destination path 'magenta' already exists and is not an empty directory.\n",
            "Reading package lists... Done\n",
            "Building dependency tree       \n",
            "Reading state information... Done\n",
            "fluidsynth is already the newest version (1.1.9-1).\n",
            "The following package was automatically installed and is no longer required:\n",
            "  libnvidia-common-460\n",
            "Use 'sudo apt autoremove' to remove it.\n",
            "0 upgraded, 0 newly installed, 0 to remove and 26 not upgraded.\n",
            "Looking in indexes: https://pypi.org/simple, https://us-python.pkg.dev/colab-wheels/public/simple/\n",
            "Requirement already satisfied: pretty_midi in /usr/local/lib/python3.7/dist-packages (0.2.9)\n",
            "Requirement already satisfied: numpy>=1.7.0 in /usr/local/lib/python3.7/dist-packages (from pretty_midi) (1.21.6)\n",
            "Requirement already satisfied: six in /usr/local/lib/python3.7/dist-packages (from pretty_midi) (1.16.0)\n",
            "Requirement already satisfied: mido>=1.1.16 in /usr/local/lib/python3.7/dist-packages (from pretty_midi) (1.2.6)\n"
          ]
        }
      ]
    },
    {
      "cell_type": "code",
      "source": [
        "cd magenta"
      ],
      "metadata": {
        "colab": {
          "base_uri": "https://localhost:8080/"
        },
        "id": "7d9vWaVJ8Jxo",
        "outputId": "08bba704-28ca-4118-96da-1fddbe8b651d"
      },
      "execution_count": 21,
      "outputs": [
        {
          "output_type": "stream",
          "name": "stdout",
          "text": [
            "/content/magenta/magenta/models/music_vae/magenta\n"
          ]
        }
      ]
    },
    {
      "cell_type": "code",
      "source": [
        "!pip install -e ."
      ],
      "metadata": {
        "id": "dSm-MFc98LY7"
      },
      "execution_count": null,
      "outputs": []
    },
    {
      "cell_type": "code",
      "source": [
        "import os\n",
        "import warnings\n",
        "\n",
        "warnings.filterwarnings(\"ignore\", category=DeprecationWarning)\n",
        "os.chdir(\"/content/magenta/magenta/models/music_vae/\")"
      ],
      "metadata": {
        "id": "0K8ZyxTw8NTb"
      },
      "execution_count": 23,
      "outputs": []
    },
    {
      "cell_type": "code",
      "source": [
        "!python music_vae_train.py \\\n",
        " --config=groovae_4bar \\\n",
        " --run_dir=/tmp/groovae_4bar \\\n",
        " --mode=train \\\n",
        " --tfds_name=groove/4bar-midionly \\\n",
        " --num_steps=20"
      ],
      "metadata": {
        "colab": {
          "base_uri": "https://localhost:8080/"
        },
        "id": "FtYDnOpO8OVH",
        "outputId": "bddfb75a-6e7f-49c2-a67d-10436f6d674f"
      },
      "execution_count": 24,
      "outputs": [
        {
          "output_type": "stream",
          "name": "stdout",
          "text": [
            "/usr/local/lib/python3.7/dist-packages/librosa/util/decorators.py:9: NumbaDeprecationWarning: An import was requested from a module that has moved location.\n",
            "Import requested from: 'numba.decorators', please update to use 'numba.core.decorators' or pin to Numba version 0.48.0. This alias will not be present in Numba version 0.50.0.\n",
            "  from numba.decorators import jit as optional_jit\n",
            "/usr/local/lib/python3.7/dist-packages/librosa/util/decorators.py:9: NumbaDeprecationWarning: An import was requested from a module that has moved location.\n",
            "Import of 'jit' requested from: 'numba.decorators', please update to use 'numba.core.decorators' or pin to Numba version 0.48.0. This alias will not be present in Numba version 0.50.0.\n",
            "  from numba.decorators import jit as optional_jit\n",
            "/usr/local/lib/python3.7/dist-packages/resampy/interpn.py:114: NumbaWarning: The TBB threading layer requires TBB version 2019.5 or later i.e., TBB_INTERFACE_VERSION >= 11005. Found TBB_INTERFACE_VERSION = 9107. The TBB threading layer is disabled.\n",
            "  _resample_loop_p(x, t_out, interp_win, interp_delta, num_table, scale, y)\n",
            "WARNING:tensorflow:From /usr/local/lib/python3.7/dist-packages/tensorflow/python/compat/v2_compat.py:107: disable_resource_variables (from tensorflow.python.ops.variable_scope) is deprecated and will be removed in a future version.\n",
            "Instructions for updating:\n",
            "non-resource variables are not supported in the long term\n",
            "WARNING:tensorflow:From /usr/local/lib/python3.7/dist-packages/tensorflow/python/compat/v2_compat.py:107: disable_resource_variables (from tensorflow.python.ops.variable_scope) is deprecated and will be removed in a future version.\n",
            "Instructions for updating:\n",
            "non-resource variables are not supported in the long term\n",
            "2022-09-25 08:10:36.412839: E tensorflow/stream_executor/cuda/cuda_driver.cc:271] failed call to cuInit: CUDA_ERROR_NO_DEVICE: no CUDA-capable device is detected\n",
            "INFO:tensorflow:Building MusicVAE model with BidirectionalLstmEncoder, GrooveLstmDecoder, and hparams:\n",
            "{'max_seq_len': 64, 'z_size': 256, 'free_bits': 48, 'max_beta': 0.2, 'beta_rate': 0.0, 'batch_size': 512, 'grad_clip': 1.0, 'clip_mode': 'global_norm', 'grad_norm_clip_to_zero': 10000, 'learning_rate': 0.001, 'decay_rate': 0.9999, 'min_learning_rate': 1e-05, 'conditional': True, 'dec_rnn_size': [256, 256], 'enc_rnn_size': [512], 'dropout_keep_prob': 0.3, 'sampling_schedule': 'constant', 'sampling_rate': 0.0, 'use_cudnn': False, 'residual_encoder': False, 'residual_decoder': False, 'control_preprocessing_rnn_size': [256]}\n",
            "I0925 08:10:36.444191 139900718180224 base_model.py:152] Building MusicVAE model with BidirectionalLstmEncoder, GrooveLstmDecoder, and hparams:\n",
            "{'max_seq_len': 64, 'z_size': 256, 'free_bits': 48, 'max_beta': 0.2, 'beta_rate': 0.0, 'batch_size': 512, 'grad_clip': 1.0, 'clip_mode': 'global_norm', 'grad_norm_clip_to_zero': 10000, 'learning_rate': 0.001, 'decay_rate': 0.9999, 'min_learning_rate': 1e-05, 'conditional': True, 'dec_rnn_size': [256, 256], 'enc_rnn_size': [512], 'dropout_keep_prob': 0.3, 'sampling_schedule': 'constant', 'sampling_rate': 0.0, 'use_cudnn': False, 'residual_encoder': False, 'residual_decoder': False, 'control_preprocessing_rnn_size': [256]}\n",
            "INFO:tensorflow:\n",
            "Encoder Cells (bidirectional):\n",
            "  units: [512]\n",
            "\n",
            "I0925 08:10:36.453502 139900718180224 lstm_models.py:78] \n",
            "Encoder Cells (bidirectional):\n",
            "  units: [512]\n",
            "\n",
            "WARNING:tensorflow:`tf.nn.rnn_cell.MultiRNNCell` is deprecated. This class is equivalent as `tf.keras.layers.StackedRNNCells`, and will be replaced by that in Tensorflow 2.0.\n",
            "W0925 08:10:36.463723 139900718180224 legacy_cells.py:1109] `tf.nn.rnn_cell.MultiRNNCell` is deprecated. This class is equivalent as `tf.keras.layers.StackedRNNCells`, and will be replaced by that in Tensorflow 2.0.\n",
            "WARNING:tensorflow:`tf.nn.rnn_cell.MultiRNNCell` is deprecated. This class is equivalent as `tf.keras.layers.StackedRNNCells`, and will be replaced by that in Tensorflow 2.0.\n",
            "W0925 08:10:36.473242 139900718180224 legacy_cells.py:1109] `tf.nn.rnn_cell.MultiRNNCell` is deprecated. This class is equivalent as `tf.keras.layers.StackedRNNCells`, and will be replaced by that in Tensorflow 2.0.\n",
            "INFO:tensorflow:\n",
            "Decoder Cells:\n",
            "  units: [256, 256]\n",
            "\n",
            "I0925 08:10:36.473890 139900718180224 lstm_models.py:224] \n",
            "Decoder Cells:\n",
            "  units: [256, 256]\n",
            "\n",
            "WARNING:tensorflow:`tf.nn.rnn_cell.MultiRNNCell` is deprecated. This class is equivalent as `tf.keras.layers.StackedRNNCells`, and will be replaced by that in Tensorflow 2.0.\n",
            "W0925 08:10:36.492531 139900718180224 legacy_cells.py:1109] `tf.nn.rnn_cell.MultiRNNCell` is deprecated. This class is equivalent as `tf.keras.layers.StackedRNNCells`, and will be replaced by that in Tensorflow 2.0.\n",
            "INFO:tensorflow:Reading examples from TFDS: groove/4bar-midionly\n",
            "I0925 08:10:36.493421 139900718180224 data.py:1832] Reading examples from TFDS: groove/4bar-midionly\n",
            "2022-09-25 08:10:36.650218: W tensorflow/core/platform/cloud/google_auth_provider.cc:184] All attempts to get a Google authentication bearer token failed, returning an empty token. Retrieving token from files failed with \"NOT_FOUND: Could not locate the credentials file.\". Retrieving token from GCE failed with \"NOT_FOUND: Error executing an HTTP request: HTTP response code 404\".\n",
            "I0925 08:10:36.912646 139900718180224 dataset_info.py:491] Load dataset info from gs://tfds-data/datasets/groove/4bar-midionly/2.0.1\n",
            "I0925 08:10:37.369524 139900718180224 dataset_info.py:552] Field info.description from disk and from code do not match. Keeping the one from code.\n",
            "I0925 08:10:37.369822 139900718180224 dataset_info.py:552] Field info.config_name from disk and from code do not match. Keeping the one from code.\n",
            "I0925 08:10:37.369937 139900718180224 dataset_info.py:552] Field info.config_description from disk and from code do not match. Keeping the one from code.\n",
            "I0925 08:10:37.370028 139900718180224 dataset_info.py:552] Field info.citation from disk and from code do not match. Keeping the one from code.\n",
            "I0925 08:10:37.370208 139900718180224 dataset_info.py:552] Field info.splits from disk and from code do not match. Keeping the one from code.\n",
            "I0925 08:10:37.370305 139900718180224 dataset_info.py:552] Field info.module_name from disk and from code do not match. Keeping the one from code.\n",
            "I0925 08:10:37.401840 139900718180224 dataset_builder.py:383] Reusing dataset groove (gs://tfds-data/datasets/groove/4bar-midionly/2.0.1)\n",
            "I0925 08:10:37.402168 139900718180224 logging_logger.py:45] Constructing tf.data.Dataset groove for split train, from gs://tfds-data/datasets/groove/4bar-midionly/2.0.1\n",
            "WARNING:tensorflow:From /usr/local/lib/python3.7/dist-packages/tensorflow/python/util/dispatch.py:1082: to_float (from tensorflow.python.ops.math_ops) is deprecated and will be removed in a future version.\n",
            "Instructions for updating:\n",
            "Use `tf.cast` instead.\n",
            "W0925 08:10:37.973909 139900718180224 deprecation.py:356] From /usr/local/lib/python3.7/dist-packages/tensorflow/python/util/dispatch.py:1082: to_float (from tensorflow.python.ops.math_ops) is deprecated and will be removed in a future version.\n",
            "Instructions for updating:\n",
            "Use `tf.cast` instead.\n",
            "WARNING:tensorflow:From /content/magenta/magenta/models/music_vae/magenta/magenta/contrib/rnn.py:473: bidirectional_dynamic_rnn (from tensorflow.python.ops.rnn) is deprecated and will be removed in a future version.\n",
            "Instructions for updating:\n",
            "Please use `keras.layers.Bidirectional(keras.layers.RNN(cell))`, which is equivalent to this API\n",
            "W0925 08:10:38.001509 139900718180224 deprecation.py:356] From /content/magenta/magenta/models/music_vae/magenta/magenta/contrib/rnn.py:473: bidirectional_dynamic_rnn (from tensorflow.python.ops.rnn) is deprecated and will be removed in a future version.\n",
            "Instructions for updating:\n",
            "Please use `keras.layers.Bidirectional(keras.layers.RNN(cell))`, which is equivalent to this API\n",
            "WARNING:tensorflow:From /usr/local/lib/python3.7/dist-packages/tensorflow/python/ops/rnn.py:446: dynamic_rnn (from tensorflow.python.ops.rnn) is deprecated and will be removed in a future version.\n",
            "Instructions for updating:\n",
            "Please use `keras.layers.RNN(cell)`, which is equivalent to this API\n",
            "W0925 08:10:38.002160 139900718180224 deprecation.py:356] From /usr/local/lib/python3.7/dist-packages/tensorflow/python/ops/rnn.py:446: dynamic_rnn (from tensorflow.python.ops.rnn) is deprecated and will be removed in a future version.\n",
            "Instructions for updating:\n",
            "Please use `keras.layers.RNN(cell)`, which is equivalent to this API\n",
            "/content/magenta/magenta/models/music_vae/magenta/magenta/contrib/rnn.py:750: UserWarning: `layer.add_variable` is deprecated and will be removed in a future version. Please use the `layer.add_weight()` method instead.\n",
            "  self._names[\"W\"], [input_size + self._num_units, self._num_units * 4])\n",
            "/content/magenta/magenta/models/music_vae/magenta/magenta/contrib/rnn.py:753: UserWarning: `layer.add_variable` is deprecated and will be removed in a future version. Please use the `layer.add_weight()` method instead.\n",
            "  initializer=tf.constant_initializer(0.0))\n",
            "/content/magenta/magenta/models/music_vae/magenta/magenta/models/music_vae/base_model.py:199: UserWarning: `tf.layers.dense` is deprecated and will be removed in a future version. Please use `tf.keras.layers.Dense` instead.\n",
            "  kernel_initializer=tf.random_normal_initializer(stddev=0.001))\n",
            "/content/magenta/magenta/models/music_vae/magenta/magenta/models/music_vae/base_model.py:205: UserWarning: `tf.layers.dense` is deprecated and will be removed in a future version. Please use `tf.keras.layers.Dense` instead.\n",
            "  kernel_initializer=tf.random_normal_initializer(stddev=0.001))\n",
            "/content/magenta/magenta/models/music_vae/magenta/magenta/models/music_vae/lstm_utils.py:99: UserWarning: `tf.layers.dense` is deprecated and will be removed in a future version. Please use `tf.keras.layers.Dense` instead.\n",
            "  name=name),\n",
            "INFO:tensorflow:Create CheckpointSaverHook.\n",
            "I0925 08:10:47.783246 139900718180224 basic_session_run_hooks.py:558] Create CheckpointSaverHook.\n",
            "WARNING:tensorflow:From /usr/local/lib/python3.7/dist-packages/tensorflow/python/training/training_util.py:397: Variable.initialized_value (from tensorflow.python.ops.variables) is deprecated and will be removed in a future version.\n",
            "Instructions for updating:\n",
            "Use Variable.read_value. Variables in 2.X are initialized automatically both in eager and graph (inside tf.defun) contexts.\n",
            "W0925 08:10:49.184433 139900718180224 deprecation.py:356] From /usr/local/lib/python3.7/dist-packages/tensorflow/python/training/training_util.py:397: Variable.initialized_value (from tensorflow.python.ops.variables) is deprecated and will be removed in a future version.\n",
            "Instructions for updating:\n",
            "Use Variable.read_value. Variables in 2.X are initialized automatically both in eager and graph (inside tf.defun) contexts.\n",
            "INFO:tensorflow:Graph was finalized.\n",
            "I0925 08:10:49.301159 139900718180224 monitored_session.py:243] Graph was finalized.\n",
            "INFO:tensorflow:Restoring parameters from /tmp/groovae_4bar/train/model.ckpt-102\n",
            "I0925 08:10:49.303054 139900718180224 saver.py:1412] Restoring parameters from /tmp/groovae_4bar/train/model.ckpt-102\n",
            "WARNING:tensorflow:From /usr/local/lib/python3.7/dist-packages/tensorflow/python/training/saver.py:1175: get_checkpoint_mtimes (from tensorflow.python.training.checkpoint_management) is deprecated and will be removed in a future version.\n",
            "Instructions for updating:\n",
            "Use standard file utilities to get mtimes.\n",
            "W0925 08:10:49.773292 139900718180224 deprecation.py:356] From /usr/local/lib/python3.7/dist-packages/tensorflow/python/training/saver.py:1175: get_checkpoint_mtimes (from tensorflow.python.training.checkpoint_management) is deprecated and will be removed in a future version.\n",
            "Instructions for updating:\n",
            "Use standard file utilities to get mtimes.\n",
            "INFO:tensorflow:Running local_init_op.\n",
            "I0925 08:10:49.883530 139900718180224 session_manager.py:527] Running local_init_op.\n",
            "INFO:tensorflow:Done running local_init_op.\n",
            "I0925 08:10:49.968724 139900718180224 session_manager.py:530] Done running local_init_op.\n",
            "INFO:tensorflow:Calling checkpoint listeners before saving checkpoint 102...\n",
            "I0925 08:10:54.800043 139900718180224 basic_session_run_hooks.py:629] Calling checkpoint listeners before saving checkpoint 102...\n",
            "INFO:tensorflow:Saving checkpoints for 102 into /tmp/groovae_4bar/train/model.ckpt.\n",
            "I0925 08:10:54.808275 139900718180224 basic_session_run_hooks.py:633] Saving checkpoints for 102 into /tmp/groovae_4bar/train/model.ckpt.\n",
            "INFO:tensorflow:/tmp/groovae_4bar/train/model.ckpt-102.meta\n",
            "I0925 08:10:55.945280 139900718180224 saver.py:90] /tmp/groovae_4bar/train/model.ckpt-102.meta\n",
            "INFO:tensorflow:2800\n",
            "I0925 08:10:55.945549 139900718180224 saver.py:93] 2800\n",
            "INFO:tensorflow:/tmp/groovae_4bar/train/model.ckpt-102.index\n",
            "I0925 08:10:55.945628 139900718180224 saver.py:90] /tmp/groovae_4bar/train/model.ckpt-102.index\n",
            "INFO:tensorflow:2800\n",
            "I0925 08:10:55.945728 139900718180224 saver.py:93] 2800\n",
            "INFO:tensorflow:/tmp/groovae_4bar/train/model.ckpt-102.data-00000-of-00001\n",
            "I0925 08:10:55.945801 139900718180224 saver.py:90] /tmp/groovae_4bar/train/model.ckpt-102.data-00000-of-00001\n",
            "INFO:tensorflow:51800\n",
            "I0925 08:10:55.945861 139900718180224 saver.py:93] 51800\n",
            "INFO:tensorflow:Calling checkpoint listeners after saving checkpoint 102...\n",
            "I0925 08:10:55.946042 139900718180224 basic_session_run_hooks.py:641] Calling checkpoint listeners after saving checkpoint 102...\n",
            "INFO:tensorflow:Calling checkpoint listeners before saving checkpoint 103...\n",
            "I0925 08:12:08.121841 139900718180224 basic_session_run_hooks.py:629] Calling checkpoint listeners before saving checkpoint 103...\n",
            "INFO:tensorflow:Saving checkpoints for 103 into /tmp/groovae_4bar/train/model.ckpt.\n",
            "I0925 08:12:08.122104 139900718180224 basic_session_run_hooks.py:633] Saving checkpoints for 103 into /tmp/groovae_4bar/train/model.ckpt.\n",
            "INFO:tensorflow:/tmp/groovae_4bar/train/model.ckpt-103.index\n",
            "I0925 08:12:09.124993 139900718180224 saver.py:90] /tmp/groovae_4bar/train/model.ckpt-103.index\n",
            "INFO:tensorflow:0\n",
            "I0925 08:12:09.125245 139900718180224 saver.py:93] 0\n",
            "INFO:tensorflow:/tmp/groovae_4bar/train/model.ckpt-103.data-00000-of-00001\n",
            "I0925 08:12:09.125311 139900718180224 saver.py:90] /tmp/groovae_4bar/train/model.ckpt-103.data-00000-of-00001\n",
            "INFO:tensorflow:49000\n",
            "I0925 08:12:09.125370 139900718180224 saver.py:93] 49000\n",
            "INFO:tensorflow:/tmp/groovae_4bar/train/model.ckpt-103.meta\n",
            "I0925 08:12:09.125422 139900718180224 saver.py:90] /tmp/groovae_4bar/train/model.ckpt-103.meta\n",
            "INFO:tensorflow:51800\n",
            "I0925 08:12:09.125473 139900718180224 saver.py:93] 51800\n",
            "INFO:tensorflow:Calling checkpoint listeners after saving checkpoint 103...\n",
            "I0925 08:12:09.125684 139900718180224 basic_session_run_hooks.py:641] Calling checkpoint listeners after saving checkpoint 103...\n",
            "INFO:tensorflow:global_step = 103, loss = 218.28693\n",
            "I0925 08:12:09.125961 139900718180224 basic_session_run_hooks.py:266] global_step = 103, loss = 218.28693\n",
            "2022-09-25 08:12:09.153092: W tensorflow/core/kernels/data/cache_dataset_ops.cc:856] The calling iterator did not fully read the dataset being cached. In order to avoid unexpected truncation of the dataset, the partially cached contents of the dataset  will be discarded. This can happen if you have an input pipeline similar to `dataset.cache().take(k).repeat()`. You should use `dataset.take(k).cache().repeat()` instead.\n",
            "2022-09-25 08:12:09.160982: W tensorflow/core/kernels/data/cache_dataset_ops.cc:856] The calling iterator did not fully read the dataset being cached. In order to avoid unexpected truncation of the dataset, the partially cached contents of the dataset  will be discarded. This can happen if you have an input pipeline similar to `dataset.cache().take(k).repeat()`. You should use `dataset.take(k).cache().repeat()` instead.\n"
          ]
        }
      ]
    },
    {
      "cell_type": "code",
      "source": [
        "sh = \"\"\"\n",
        "music_vae_generate \\\n",
        "--config=groovae_4bar \\\n",
        "--run_dir=/tmp/groovae_4bar \\ \\\n",
        "--mode=sample \\\n",
        "--num_outputs=5 \\\n",
        "--output_dir=/content/drive/MyDrive/project/drum_sampling_data\n",
        "\"\"\"\n",
        "with open('script.sh', 'w') as file:\n",
        "  file.write(sh)\n",
        "\n",
        "!bash script.sh"
      ],
      "metadata": {
        "colab": {
          "base_uri": "https://localhost:8080/"
        },
        "id": "JqNleJOVi71T",
        "outputId": "091bfc0f-de97-46a6-f23c-b22acd0dd7c5"
      },
      "execution_count": 25,
      "outputs": [
        {
          "output_type": "stream",
          "name": "stdout",
          "text": [
            "/usr/local/lib/python3.7/dist-packages/librosa/util/decorators.py:9: NumbaDeprecationWarning: An import was requested from a module that has moved location.\n",
            "Import requested from: 'numba.decorators', please update to use 'numba.core.decorators' or pin to Numba version 0.48.0. This alias will not be present in Numba version 0.50.0.\n",
            "  from numba.decorators import jit as optional_jit\n",
            "/usr/local/lib/python3.7/dist-packages/librosa/util/decorators.py:9: NumbaDeprecationWarning: An import was requested from a module that has moved location.\n",
            "Import of 'jit' requested from: 'numba.decorators', please update to use 'numba.core.decorators' or pin to Numba version 0.48.0. This alias will not be present in Numba version 0.50.0.\n",
            "  from numba.decorators import jit as optional_jit\n",
            "/usr/local/lib/python3.7/dist-packages/resampy/interpn.py:114: NumbaWarning: The TBB threading layer requires TBB version 2019.5 or later i.e., TBB_INTERFACE_VERSION >= 11005. Found TBB_INTERFACE_VERSION = 9107. The TBB threading layer is disabled.\n",
            "  _resample_loop_p(x, t_out, interp_win, interp_delta, num_table, scale, y)\n",
            "WARNING:tensorflow:From /usr/local/lib/python3.7/dist-packages/tensorflow/python/compat/v2_compat.py:107: disable_resource_variables (from tensorflow.python.ops.variable_scope) is deprecated and will be removed in a future version.\n",
            "Instructions for updating:\n",
            "non-resource variables are not supported in the long term\n",
            "WARNING:tensorflow:From /usr/local/lib/python3.7/dist-packages/tensorflow/python/compat/v2_compat.py:107: disable_resource_variables (from tensorflow.python.ops.variable_scope) is deprecated and will be removed in a future version.\n",
            "Instructions for updating:\n",
            "non-resource variables are not supported in the long term\n",
            "2022-09-25 08:12:30.539690: E tensorflow/stream_executor/cuda/cuda_driver.cc:271] failed call to cuInit: CUDA_ERROR_NO_DEVICE: no CUDA-capable device is detected\n",
            "INFO:tensorflow:Loading model...\n",
            "I0925 08:12:30.540819 140314472605568 music_vae_generate.py:149] Loading model...\n",
            "INFO:tensorflow:Building MusicVAE model with BidirectionalLstmEncoder, GrooveLstmDecoder, and hparams:\n",
            "{'max_seq_len': 64, 'z_size': 256, 'free_bits': 48, 'max_beta': 0.2, 'beta_rate': 0.0, 'batch_size': 5, 'grad_clip': 1.0, 'clip_mode': 'global_norm', 'grad_norm_clip_to_zero': 10000, 'learning_rate': 0.001, 'decay_rate': 0.9999, 'min_learning_rate': 1e-05, 'conditional': True, 'dec_rnn_size': [256, 256], 'enc_rnn_size': [512], 'dropout_keep_prob': 0.3, 'sampling_schedule': 'constant', 'sampling_rate': 0.0, 'use_cudnn': False, 'residual_encoder': False, 'residual_decoder': False, 'control_preprocessing_rnn_size': [256]}\n",
            "I0925 08:12:30.543574 140314472605568 base_model.py:152] Building MusicVAE model with BidirectionalLstmEncoder, GrooveLstmDecoder, and hparams:\n",
            "{'max_seq_len': 64, 'z_size': 256, 'free_bits': 48, 'max_beta': 0.2, 'beta_rate': 0.0, 'batch_size': 5, 'grad_clip': 1.0, 'clip_mode': 'global_norm', 'grad_norm_clip_to_zero': 10000, 'learning_rate': 0.001, 'decay_rate': 0.9999, 'min_learning_rate': 1e-05, 'conditional': True, 'dec_rnn_size': [256, 256], 'enc_rnn_size': [512], 'dropout_keep_prob': 0.3, 'sampling_schedule': 'constant', 'sampling_rate': 0.0, 'use_cudnn': False, 'residual_encoder': False, 'residual_decoder': False, 'control_preprocessing_rnn_size': [256]}\n",
            "INFO:tensorflow:\n",
            "Encoder Cells (bidirectional):\n",
            "  units: [512]\n",
            "\n",
            "I0925 08:12:30.551164 140314472605568 lstm_models.py:78] \n",
            "Encoder Cells (bidirectional):\n",
            "  units: [512]\n",
            "\n",
            "WARNING:tensorflow:`tf.nn.rnn_cell.MultiRNNCell` is deprecated. This class is equivalent as `tf.keras.layers.StackedRNNCells`, and will be replaced by that in Tensorflow 2.0.\n",
            "W0925 08:12:30.561547 140314472605568 legacy_cells.py:1109] `tf.nn.rnn_cell.MultiRNNCell` is deprecated. This class is equivalent as `tf.keras.layers.StackedRNNCells`, and will be replaced by that in Tensorflow 2.0.\n",
            "WARNING:tensorflow:`tf.nn.rnn_cell.MultiRNNCell` is deprecated. This class is equivalent as `tf.keras.layers.StackedRNNCells`, and will be replaced by that in Tensorflow 2.0.\n",
            "W0925 08:12:30.571081 140314472605568 legacy_cells.py:1109] `tf.nn.rnn_cell.MultiRNNCell` is deprecated. This class is equivalent as `tf.keras.layers.StackedRNNCells`, and will be replaced by that in Tensorflow 2.0.\n",
            "INFO:tensorflow:\n",
            "Decoder Cells:\n",
            "  units: [256, 256]\n",
            "\n",
            "I0925 08:12:30.571690 140314472605568 lstm_models.py:224] \n",
            "Decoder Cells:\n",
            "  units: [256, 256]\n",
            "\n",
            "WARNING:tensorflow:`tf.nn.rnn_cell.MultiRNNCell` is deprecated. This class is equivalent as `tf.keras.layers.StackedRNNCells`, and will be replaced by that in Tensorflow 2.0.\n",
            "W0925 08:12:30.590627 140314472605568 legacy_cells.py:1109] `tf.nn.rnn_cell.MultiRNNCell` is deprecated. This class is equivalent as `tf.keras.layers.StackedRNNCells`, and will be replaced by that in Tensorflow 2.0.\n",
            "/content/magenta/magenta/models/music_vae/magenta/magenta/models/music_vae/lstm_utils.py:99: UserWarning: `tf.layers.dense` is deprecated and will be removed in a future version. Please use `tf.keras.layers.Dense` instead.\n",
            "  name=name),\n",
            "/content/magenta/magenta/models/music_vae/magenta/magenta/contrib/rnn.py:750: UserWarning: `layer.add_variable` is deprecated and will be removed in a future version. Please use the `layer.add_weight()` method instead.\n",
            "  self._names[\"W\"], [input_size + self._num_units, self._num_units * 4])\n",
            "/content/magenta/magenta/models/music_vae/magenta/magenta/contrib/rnn.py:753: UserWarning: `layer.add_variable` is deprecated and will be removed in a future version. Please use the `layer.add_weight()` method instead.\n",
            "  initializer=tf.constant_initializer(0.0))\n",
            "WARNING:tensorflow:From /usr/local/lib/python3.7/dist-packages/tensorflow/python/util/dispatch.py:1082: to_float (from tensorflow.python.ops.math_ops) is deprecated and will be removed in a future version.\n",
            "Instructions for updating:\n",
            "Use `tf.cast` instead.\n",
            "W0925 08:12:31.055866 140314472605568 deprecation.py:356] From /usr/local/lib/python3.7/dist-packages/tensorflow/python/util/dispatch.py:1082: to_float (from tensorflow.python.ops.math_ops) is deprecated and will be removed in a future version.\n",
            "Instructions for updating:\n",
            "Use `tf.cast` instead.\n",
            "WARNING:tensorflow:From /content/magenta/magenta/models/music_vae/magenta/magenta/contrib/rnn.py:473: bidirectional_dynamic_rnn (from tensorflow.python.ops.rnn) is deprecated and will be removed in a future version.\n",
            "Instructions for updating:\n",
            "Please use `keras.layers.Bidirectional(keras.layers.RNN(cell))`, which is equivalent to this API\n",
            "W0925 08:12:31.057357 140314472605568 deprecation.py:356] From /content/magenta/magenta/models/music_vae/magenta/magenta/contrib/rnn.py:473: bidirectional_dynamic_rnn (from tensorflow.python.ops.rnn) is deprecated and will be removed in a future version.\n",
            "Instructions for updating:\n",
            "Please use `keras.layers.Bidirectional(keras.layers.RNN(cell))`, which is equivalent to this API\n",
            "WARNING:tensorflow:From /usr/local/lib/python3.7/dist-packages/tensorflow/python/ops/rnn.py:446: dynamic_rnn (from tensorflow.python.ops.rnn) is deprecated and will be removed in a future version.\n",
            "Instructions for updating:\n",
            "Please use `keras.layers.RNN(cell)`, which is equivalent to this API\n",
            "W0925 08:12:31.057790 140314472605568 deprecation.py:356] From /usr/local/lib/python3.7/dist-packages/tensorflow/python/ops/rnn.py:446: dynamic_rnn (from tensorflow.python.ops.rnn) is deprecated and will be removed in a future version.\n",
            "Instructions for updating:\n",
            "Please use `keras.layers.RNN(cell)`, which is equivalent to this API\n",
            "/content/magenta/magenta/models/music_vae/magenta/magenta/models/music_vae/base_model.py:199: UserWarning: `tf.layers.dense` is deprecated and will be removed in a future version. Please use `tf.keras.layers.Dense` instead.\n",
            "  kernel_initializer=tf.random_normal_initializer(stddev=0.001))\n",
            "/content/magenta/magenta/models/music_vae/magenta/magenta/models/music_vae/base_model.py:205: UserWarning: `tf.layers.dense` is deprecated and will be removed in a future version. Please use `tf.keras.layers.Dense` instead.\n",
            "  kernel_initializer=tf.random_normal_initializer(stddev=0.001))\n",
            "INFO:tensorflow:Restoring parameters from /tmp/groovae_4bar/train/model.ckpt-103\n",
            "I0925 08:12:31.351371 140314472605568 saver.py:1412] Restoring parameters from /tmp/groovae_4bar/train/model.ckpt-103\n",
            "INFO:tensorflow:Sampling...\n",
            "I0925 08:12:31.396538 140314472605568 music_vae_generate.py:169] Sampling...\n",
            "INFO:tensorflow:Outputting 5 files as `/content/drive/MyDrive/project/data/groovae_4bar_sample_2022-09-25_081230-*-of-005.mid`...\n",
            "I0925 08:12:31.537063 140314472605568 music_vae_generate.py:179] Outputting 5 files as `/content/drive/MyDrive/project/data/groovae_4bar_sample_2022-09-25_081230-*-of-005.mid`...\n",
            "INFO:tensorflow:Done.\n",
            "I0925 08:12:31.630417 140314472605568 music_vae_generate.py:183] Done.\n"
          ]
        }
      ]
    }
  ]
}